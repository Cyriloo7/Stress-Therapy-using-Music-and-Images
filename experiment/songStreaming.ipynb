{
 "cells": [
  {
   "cell_type": "code",
   "execution_count": 13,
   "id": "a15795bf",
   "metadata": {},
   "outputs": [],
   "source": [
    "text='''254 ContributorsTranslationsDeutschPortuguêsΕλληνικάFrançaisSee You Again Lyrics\n",
    "It's been a long day\n",
    "Without you, my friend\n",
    "And I'll tell you all about it when I see you again\n",
    "We've come a long way\n",
    "From where we began\n",
    "Oh, I'll tell you all about it when I see you again\n",
    "When I see you again\n",
    "Damn, who knew?\n",
    "All the planes /nwe flew, good things we been through\n",
    "That I'd be standin' right here talkin' to you/n\n",
    "'Bout another path, I know we loved to hit the road and laugh\n",
    "But somethin' told me that it wouldn't last/n\n",
    "Had to switch up, look at things different, see the bigger picture\n",
    "Those were the days, hard work forever pays\n",
    "Now I see you in a better place\n",
    "Uh'''"
   ]
  },
  {
   "cell_type": "code",
   "execution_count": 14,
   "id": "add641bd",
   "metadata": {},
   "outputs": [],
   "source": [
    "text1='''173 ContributorsTranslations日本語DeutschEnglishDespacito Lyrics\n",
    "\n",
    "Ay, ¡Fonsi! ¡D.Y.!\n",
    "Ooh, oh, no, oh, no, oh\n",
    "¡Hey, yeah!\n",
    "Dididiri Daddy, go!\n",
    "Sí, sabes que ya llevo un rato mirándote\n",
    "Tengo que bailar contigo hoy (¡D.Y.!)\n",
    "Vi que tu mirada ya estaba llamándome\n",
    "Muéstrame el camino que yo voy'''"
   ]
  },
  {
   "cell_type": "code",
   "execution_count": 15,
   "id": "871f8750",
   "metadata": {},
   "outputs": [],
   "source": [
    "import re"
   ]
  },
  {
   "cell_type": "code",
   "execution_count": 16,
   "id": "573666a2",
   "metadata": {},
   "outputs": [],
   "source": [
    "pattern = r\"^\\d+\\sContributorsTranslations.*Lyrics$\"\n",
    "pattern_1=r\"/n\""
   ]
  },
  {
   "cell_type": "code",
   "execution_count": 18,
   "id": "d7b1bf7f",
   "metadata": {},
   "outputs": [
    {
     "name": "stdout",
     "output_type": "stream",
     "text": [
      "254 ContributorsTranslationsDeutschPortuguêsΕλληνικάFrançaisSee You Again Lyrics\n",
      "It's been a long day\n",
      "Without you, my friend\n",
      "And I'll tell you all about it when I see you again\n",
      "We've come a long way\n",
      "From where we began\n",
      "Oh, I'll tell you all about it when I see you again\n",
      "When I see you again\n",
      "Damn, who knew?\n",
      "All the planes we flew, good things we been through\n",
      "That I'd be standin' right here talkin' to you\n",
      "'Bout another path, I know we loved to hit the road and laugh\n",
      "But somethin' told me that it wouldn't last\n",
      "Had to switch up, look at things different, see the bigger picture\n",
      "Those were the days, hard work forever pays\n",
      "Now I see you in a better place\n",
      "Uh\n"
     ]
    }
   ],
   "source": [
    "new_text = re.sub(pattern, '', text, flags=re.MULTILINE)\n",
    "new_text=re.sub(pattern_1, '', text, flags=re.MULTILINE)\n",
    "print(new_text)"
   ]
  },
  {
   "cell_type": "code",
   "execution_count": 7,
   "id": "9ce22698",
   "metadata": {},
   "outputs": [
    {
     "name": "stdout",
     "output_type": "stream",
     "text": [
      "Collecting spotipy\n",
      "  Downloading spotipy-2.24.0-py3-none-any.whl (30 kB)\n",
      "Requirement already satisfied: urllib3>=1.26.0 in c:\\users\\yugan\\anaconda3\\lib\\site-packages (from spotipy) (1.26.14)\n",
      "Requirement already satisfied: requests>=2.25.0 in c:\\users\\yugan\\anaconda3\\lib\\site-packages (from spotipy) (2.28.1)\n",
      "Collecting redis>=3.5.3\n",
      "  Downloading redis-5.0.7-py3-none-any.whl (252 kB)\n",
      "     -------------------------------------- 252.1/252.1 kB 3.8 MB/s eta 0:00:00\n",
      "Collecting async-timeout>=4.0.3\n",
      "  Downloading async_timeout-4.0.3-py3-none-any.whl (5.7 kB)\n",
      "Requirement already satisfied: charset-normalizer<3,>=2 in c:\\users\\yugan\\anaconda3\\lib\\site-packages (from requests>=2.25.0->spotipy) (2.0.4)\n",
      "Requirement already satisfied: certifi>=2017.4.17 in c:\\users\\yugan\\anaconda3\\lib\\site-packages (from requests>=2.25.0->spotipy) (2024.2.2)\n",
      "Requirement already satisfied: idna<4,>=2.5 in c:\\users\\yugan\\anaconda3\\lib\\site-packages (from requests>=2.25.0->spotipy) (2.10)\n",
      "Installing collected packages: async-timeout, redis, spotipy\n",
      "Successfully installed async-timeout-4.0.3 redis-5.0.7 spotipy-2.24.0\n"
     ]
    }
   ],
   "source": [
    "!pip install spotipy"
   ]
  },
  {
   "cell_type": "code",
   "execution_count": 1,
   "id": "c0f7775b",
   "metadata": {},
   "outputs": [],
   "source": [
    "import spotipy\n",
    "from spotipy.oauth2 import SpotifyOAuth\n",
    "\n"
   ]
  },
  {
   "cell_type": "code",
   "execution_count": 3,
   "id": "8f590bb7",
   "metadata": {},
   "outputs": [],
   "source": [
    "# Replace with your own credentials\n",
    "client_id = \"2f495710f7854b099382a20ae7d6cc87\"\n",
    "client_secret = \"1157403c5e6c4f70abe329eff142721f\"\n",
    "redirect_uri = \"http://localhost:8080/callback\"\n",
    "\n"
   ]
  },
  {
   "cell_type": "code",
   "execution_count": 4,
   "id": "2630e094",
   "metadata": {},
   "outputs": [],
   "source": [
    "scope = \"user-read-playback-state user-modify-playback-state\""
   ]
  },
  {
   "cell_type": "code",
   "execution_count": 5,
   "id": "7fe1a40a",
   "metadata": {},
   "outputs": [
    {
     "name": "stderr",
     "output_type": "stream",
     "text": [
      "C:\\Users\\cyril\\AppData\\Local\\Temp\\ipykernel_23560\\2226005192.py:5: DeprecationWarning: You're using 'as_dict = True'.get_access_token will return the token string directly in future versions. Please adjust your code accordingly, or use get_cached_token instead.\n",
      "  token_info = sp_oauth.get_access_token()\n"
     ]
    }
   ],
   "source": [
    "# Set up the Spotify OAuth object\n",
    "sp_oauth = SpotifyOAuth(client_id, client_secret, redirect_uri,scope=scope)\n",
    "\n",
    "# Authenticate and get an access token\n",
    "token_info = sp_oauth.get_access_token()\n",
    "\n"
   ]
  },
  {
   "cell_type": "code",
   "execution_count": 6,
   "id": "5fb7ee15",
   "metadata": {},
   "outputs": [],
   "source": [
    "# Create a Spotify client object\n",
    "sp_client = spotipy.Spotify(auth=token_info['access_token'])\n",
    "\n"
   ]
  },
  {
   "cell_type": "code",
   "execution_count": 28,
   "id": "37474102",
   "metadata": {},
   "outputs": [],
   "source": [
    "# Search for a song\n",
    "song_name = \"Speak to Me\"  # Replace with the song you want to play\n",
    "artist_name = \"Pink Floyd\"  # Replace with the artist of the song\n",
    "\n",
    "result = sp_client.search(q=f\"track:{song_name} artist:{artist_name}\", type=\"track\")\n",
    "\n"
   ]
  },
  {
   "cell_type": "code",
   "execution_count": 29,
   "id": "0945f942",
   "metadata": {},
   "outputs": [],
   "source": [
    "# Get the first result (you can modify this to handle multiple results)\n",
    "track_id = result['tracks']['items'][0]['id']\n"
   ]
  },
  {
   "cell_type": "code",
   "execution_count": 30,
   "id": "0d271f38",
   "metadata": {
    "scrolled": true
   },
   "outputs": [],
   "source": [
    "\n",
    "# Play the song\n",
    "sp_client.start_playback(uris=[f\"spotify:track:{track_id}\"])"
   ]
  },
  {
   "cell_type": "code",
   "execution_count": 31,
   "id": "ca6e95b7",
   "metadata": {},
   "outputs": [],
   "source": [
    "# Search for an album\n",
    "album_name = \"The Dark Side of the Moon\"  # Replace with the album you want to play\n",
    "artist_name = \"Pink Floyd\"  # Replace with the artist of the album\n",
    "\n",
    "result = sp_client.search(q=f\"album:{album_name} artist:{artist_name}\", type=\"album\")"
   ]
  },
  {
   "cell_type": "code",
   "execution_count": 32,
   "id": "45499b16",
   "metadata": {},
   "outputs": [],
   "source": [
    "# Get the first result (you can modify this to handle multiple results)\n",
    "album_id = result['albums']['items'][0]['id']"
   ]
  },
  {
   "cell_type": "code",
   "execution_count": 33,
   "id": "9f8d5f79",
   "metadata": {},
   "outputs": [],
   "source": [
    "#Play the album\n",
    "sp_client.start_playback(context_uri=f\"spotify:album:{album_id}\")"
   ]
  },
  {
   "cell_type": "code",
   "execution_count": null,
   "id": "ed9cde8c",
   "metadata": {},
   "outputs": [],
   "source": []
  }
 ],
 "metadata": {
  "kernelspec": {
   "display_name": "Python 3 (ipykernel)",
   "language": "python",
   "name": "python3"
  },
  "language_info": {
   "codemirror_mode": {
    "name": "ipython",
    "version": 3
   },
   "file_extension": ".py",
   "mimetype": "text/x-python",
   "name": "python",
   "nbconvert_exporter": "python",
   "pygments_lexer": "ipython3",
   "version": "3.12.2"
  }
 },
 "nbformat": 4,
 "nbformat_minor": 5
}
